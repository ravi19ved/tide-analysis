{
 "cells": [
  {
   "cell_type": "code",
   "execution_count": null,
   "metadata": {},
   "outputs": [],
   "source": [
    "import pandas as pd \n",
    "import geopandas as gpd \n",
    "import matplotlib.pyplot as plt \n",
    "from geodatasets import get_path \n",
    "\n",
    "df = pd.DataFrame(\n",
    "\n",
    "{\n",
    "    \"Tide Station\": [Aerial Bay, Campbell Bay, Chennai, Cochin, Ennore, Garden Reach, JNPT, Kakinada, \n",
    "Kandla, Karwar, Kavaratti, Krishnapatnam, Minicoy, Nagapattinam, Nancowry, New Mangalore, Okha, Paradip,\n",
    "Port Blair, Tuticorin, Visakhapatnam, Adani Hazira, Beypore, Car Nicobar, Hutbay, Jaigarh, Machilipatnam,\n",
    "Marmagao, Rangatbay, Veraval, Digha, Puducherry, Puducherry, Kollam, Porbandar, Jakhau, Dhamra, Gopalpur],\n",
    "    \"Latitude\": [], \n",
    "    \"Longitude\":[],\n",
    "}\n",
    "\n",
    "\n",
    "\n",
    "\n",
    ")"
   ]
  }
 ],
 "metadata": {
  "language_info": {
   "name": "python"
  },
  "orig_nbformat": 4
 },
 "nbformat": 4,
 "nbformat_minor": 2
}
