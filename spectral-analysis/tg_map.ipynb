{
 "cells": [
  {
   "cell_type": "code",
   "execution_count": 19,
   "metadata": {},
   "outputs": [],
   "source": [
    "# Library Imports\n",
    "\n",
    "import folium \n",
    "import matplotlib.pyplot as plt\n"
   ]
  },
  {
   "cell_type": "code",
   "execution_count": 20,
   "metadata": {},
   "outputs": [
    {
     "ename": "AttributeError",
     "evalue": "'Map' object has no attribute 'data'",
     "output_type": "error",
     "traceback": [
      "\u001b[1;31m---------------------------------------------------------------------------\u001b[0m",
      "\u001b[1;31mAttributeError\u001b[0m                            Traceback (most recent call last)",
      "\u001b[1;32mc:\\Users\\incois\\tide-analysis\\spectral-analysis\\tg_map.ipynb Cell 2\u001b[0m in \u001b[0;36m<cell line: 28>\u001b[1;34m()\u001b[0m\n\u001b[0;32m     <a href='vscode-notebook-cell:/c%3A/Users/incois/tide-analysis/spectral-analysis/tg_map.ipynb#W1sZmlsZQ%3D%3D?line=18'>19</a>\u001b[0m \u001b[39mif\u001b[39;00m \u001b[39m__name__\u001b[39m \u001b[39m==\u001b[39m \u001b[39m\"\u001b[39m\u001b[39m__main__\u001b[39m\u001b[39m\"\u001b[39m:\n\u001b[0;32m     <a href='vscode-notebook-cell:/c%3A/Users/incois/tide-analysis/spectral-analysis/tg_map.ipynb#W1sZmlsZQ%3D%3D?line=19'>20</a>\u001b[0m     \u001b[39m# Example list of points (latitude, longitude)\u001b[39;00m\n\u001b[0;32m     <a href='vscode-notebook-cell:/c%3A/Users/incois/tide-analysis/spectral-analysis/tg_map.ipynb#W1sZmlsZQ%3D%3D?line=20'>21</a>\u001b[0m     points_list \u001b[39m=\u001b[39m [\n\u001b[0;32m     <a href='vscode-notebook-cell:/c%3A/Users/incois/tide-analysis/spectral-analysis/tg_map.ipynb#W1sZmlsZQ%3D%3D?line=21'>22</a>\u001b[0m         (\u001b[39m40.7128\u001b[39m, \u001b[39m-\u001b[39m\u001b[39m74.0060\u001b[39m),  \u001b[39m# New York City\u001b[39;00m\n\u001b[0;32m     <a href='vscode-notebook-cell:/c%3A/Users/incois/tide-analysis/spectral-analysis/tg_map.ipynb#W1sZmlsZQ%3D%3D?line=22'>23</a>\u001b[0m         (\u001b[39m34.0522\u001b[39m, \u001b[39m-\u001b[39m\u001b[39m118.2437\u001b[39m),  \u001b[39m# Los Angeles\u001b[39;00m\n\u001b[0;32m     <a href='vscode-notebook-cell:/c%3A/Users/incois/tide-analysis/spectral-analysis/tg_map.ipynb#W1sZmlsZQ%3D%3D?line=23'>24</a>\u001b[0m         (\u001b[39m51.5074\u001b[39m, \u001b[39m-\u001b[39m\u001b[39m0.1278\u001b[39m),    \u001b[39m# London\u001b[39;00m\n\u001b[0;32m     <a href='vscode-notebook-cell:/c%3A/Users/incois/tide-analysis/spectral-analysis/tg_map.ipynb#W1sZmlsZQ%3D%3D?line=24'>25</a>\u001b[0m         (\u001b[39m35.6895\u001b[39m, \u001b[39m139.6917\u001b[39m),   \u001b[39m# Tokyo\u001b[39;00m\n\u001b[0;32m     <a href='vscode-notebook-cell:/c%3A/Users/incois/tide-analysis/spectral-analysis/tg_map.ipynb#W1sZmlsZQ%3D%3D?line=25'>26</a>\u001b[0m     ]\n\u001b[1;32m---> <a href='vscode-notebook-cell:/c%3A/Users/incois/tide-analysis/spectral-analysis/tg_map.ipynb#W1sZmlsZQ%3D%3D?line=27'>28</a>\u001b[0m plot_points_on_map(points_list)\n",
      "\u001b[1;32mc:\\Users\\incois\\tide-analysis\\spectral-analysis\\tg_map.ipynb Cell 2\u001b[0m in \u001b[0;36mplot_points_on_map\u001b[1;34m(points_list)\u001b[0m\n\u001b[0;32m     <a href='vscode-notebook-cell:/c%3A/Users/incois/tide-analysis/spectral-analysis/tg_map.ipynb#W1sZmlsZQ%3D%3D?line=12'>13</a>\u001b[0m \u001b[39m# Display the map using matplotlib (optional)\u001b[39;00m\n\u001b[0;32m     <a href='vscode-notebook-cell:/c%3A/Users/incois/tide-analysis/spectral-analysis/tg_map.ipynb#W1sZmlsZQ%3D%3D?line=13'>14</a>\u001b[0m plt\u001b[39m.\u001b[39mfigure(figsize\u001b[39m=\u001b[39m(\u001b[39m10\u001b[39m, \u001b[39m8\u001b[39m))\n\u001b[1;32m---> <a href='vscode-notebook-cell:/c%3A/Users/incois/tide-analysis/spectral-analysis/tg_map.ipynb#W1sZmlsZQ%3D%3D?line=14'>15</a>\u001b[0m plt\u001b[39m.\u001b[39mimshow(my_map\u001b[39m.\u001b[39;49mdata, interpolation\u001b[39m=\u001b[39m\u001b[39m'\u001b[39m\u001b[39mlanczos\u001b[39m\u001b[39m'\u001b[39m)\n\u001b[0;32m     <a href='vscode-notebook-cell:/c%3A/Users/incois/tide-analysis/spectral-analysis/tg_map.ipynb#W1sZmlsZQ%3D%3D?line=15'>16</a>\u001b[0m plt\u001b[39m.\u001b[39maxis(\u001b[39m'\u001b[39m\u001b[39moff\u001b[39m\u001b[39m'\u001b[39m)\n\u001b[0;32m     <a href='vscode-notebook-cell:/c%3A/Users/incois/tide-analysis/spectral-analysis/tg_map.ipynb#W1sZmlsZQ%3D%3D?line=16'>17</a>\u001b[0m plt\u001b[39m.\u001b[39mshow()\n",
      "\u001b[1;31mAttributeError\u001b[0m: 'Map' object has no attribute 'data'"
     ]
    },
    {
     "data": {
      "text/plain": [
       "<Figure size 720x576 with 0 Axes>"
      ]
     },
     "metadata": {},
     "output_type": "display_data"
    }
   ],
   "source": [
    "\n",
    "def plot_points_on_map(points_list):\n",
    "    # Create a folium map centered at a specific location (latitude and longitude)\n",
    "    map_center = [points_list[0][0], points_list[0][1]]\n",
    "    my_map = folium.Map(location=map_center, zoom_start=10)\n",
    "\n",
    "    # Add markers for each point in the points_list\n",
    "    for point in points_list:\n",
    "        folium.Marker([point[0], point[1]], popup=f\"Lat: {point[0]}, Lon: {point[1]}\").add_to(my_map)\n",
    "\n",
    "    # Save the map as an HTML file (optional)\n",
    "    my_map.save(\"points_map.html\")\n",
    "\n",
    "    # Display the map using matplotlib (optional)\n",
    "    plt.figure(figsize=(10, 8))\n",
    "    plt.imshow(my_map.data, interpolation='lanczos')\n",
    "    plt.axis('off')\n",
    "    plt.show()\n",
    "\n",
    "if __name__ == \"__main__\":\n",
    "    # Example list of points (latitude, longitude)\n",
    "    points_list = [\n",
    "        (40.7128, -74.0060),  # New York City\n",
    "        (34.0522, -118.2437),  # Los Angeles\n",
    "        (51.5074, -0.1278),    # London\n",
    "        (35.6895, 139.6917),   # Tokyo\n",
    "    ]\n",
    "\n",
    "plot_points_on_map(points_list)"
   ]
  },
  {
   "cell_type": "code",
   "execution_count": null,
   "metadata": {},
   "outputs": [],
   "source": []
  }
 ],
 "metadata": {
  "kernelspec": {
   "display_name": "base",
   "language": "python",
   "name": "python3"
  },
  "language_info": {
   "codemirror_mode": {
    "name": "ipython",
    "version": 3
   },
   "file_extension": ".py",
   "mimetype": "text/x-python",
   "name": "python",
   "nbconvert_exporter": "python",
   "pygments_lexer": "ipython3",
   "version": "3.9.12"
  },
  "orig_nbformat": 4
 },
 "nbformat": 4,
 "nbformat_minor": 2
}
